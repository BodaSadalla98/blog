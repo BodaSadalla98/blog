{
 "cells": [
  {
   "cell_type": "markdown",
   "metadata": {},
   "source": [
    "# Programming Facts\n",
    "> Some facts that I learned by time\n",
    "\n",
    "- toc: true \n",
    "- badges: true\n",
    "- comments: true\n",
    "- categories: [jupyter,life,python, programming]"
   ]
  },
  {
   "cell_type": "markdown",
   "metadata": {},
   "source": [
    "# Intro\n",
    "* this is intended to be some kind or reference to go through whenever I face some kind of bug, or error, that I don't know how to solve.usually these kinds of error that doesn't make sense, or we don't know the cause of them, and the worst it, that we don't find many ppl facing the same issue, so internet can't be so useful then. \n",
    "* I learned theses facts the hard way, spending so much time trying to figure out the root of the issue.\n",
    "\n"
   ]
  },
  {
   "cell_type": "markdown",
   "metadata": {},
   "source": [
    "# Debugging Facts\n",
    "* here are some tips, to help whenever you are facing some error, trying get a package to work, or you these kinds of error that takes you life few days, you know. \n",
    "\n",
    "## Package installation issues\n",
    "\n",
    "### Python version\n",
    "* this might sound trivial, but every package version, only works with some python versions\n",
    "* so you should run `pip install package-name==` to get the package versions supported by your python version\n",
    "\n",
    "### Update Pip\n",
    "* whenever there's a dependency conflict, or versions conflict, and you can't install a package, then check your pip and update it if possible\n",
    "* I spent like 4 days clueless why a simple package that I installed a week before, won't install now, like out of a sudden, it won't install anymore, due to dependency packages conflict\n",
    "* when I upgraded pip, it simply worked \n",
    "\n",
    "### Check for broken installations\n",
    "* many times we would try to install some something, then for whatever reason, it wouldn't complete successful. But then we would try to install again, and we would encounter strange errors, that we don't know the root for them.\n",
    "* there error could be because there's a broken installation, that messed things up. \n",
    "* so, when we delete, or remove this broken installation, and install again, it just works."
   ]
  },
  {
   "cell_type": "markdown",
   "metadata": {},
   "source": []
  }
 ],
 "metadata": {
  "language_info": {
   "name": "python"
  },
  "orig_nbformat": 4
 },
 "nbformat": 4,
 "nbformat_minor": 2
}
