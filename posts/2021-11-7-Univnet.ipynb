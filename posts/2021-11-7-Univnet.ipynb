{
 "cells": [
  {
   "cell_type": "markdown",
   "metadata": {},
   "source": [
    "# Univnet\n",
    "> Research for wavegan\n",
    "- toc: true \n",
    "- badges: true\n",
    "- comments: true\n",
    "- categories: [jupyter,deeplearning,python,TTS]"
   ]
  },
  {
   "cell_type": "markdown",
   "metadata": {},
   "source": [
    "# TTS (Text To Speech)\n",
    "\n",
    "TTS can be viewed as a sequence-to-sequence mapping problem; from a sequence of discrete symbols\n",
    "(text) to a real-valued time series (speech signals). A typical TTS pipeline has two parts; 1)\n",
    "text analysis and 2) speech synthesis. The text analysis part typically includes a number of natural\n",
    "language processing (NLP) steps, such as sentence segmentation, word segmentation, text normalization,\n",
    "part-of-speech (POS) tagging, and grapheme-to-phoneme (G2P) conversion. It takes a word\n",
    "sequence as input and outputs a phoneme sequence with a variety of linguistic contexts. The speech\n",
    "synthesis part takes the context-dependent phoneme sequence as its input and outputs a synthesized\n",
    "speech waveform.\n",
    "\n"
   ]
  },
  {
   "cell_type": "markdown",
   "metadata": {},
   "source": [
    "### Wavenet\n",
    "#### Wavenet V1\n",
    "\n",
    " before wavenet, ther was two methods:\n",
    "   - generative method:\n",
    "       - which would produce the over all song of the sentece well, but would fail to produce the individual sounds well\n",
    "   - concatinative:\n",
    "       - we use a huge corpus of phonatics and concatinate them together to procude a whole sentence, this way we would procuce the individual sounds correctly, but we would lose the song of the sentence \n",
    "   \n",
    " wavenet: \n",
    " - tries to do both of the above methods, it also can change the speaker by changing some parameters\n",
    "   \n",
    "   - data output:   16 khz rate\n",
    "   - we  cant use normal RNN as the max seq length around 50 \n",
    "   \n",
    "   - they used dilated CNNs:\n",
    "       - can have very long look back\n",
    "       - fast to train\n",
    "       \n",
    "       \n",
    "WaveNet: is a deep generative model of audio data that operates directly at\n",
    "the waveform level. WaveNets are autoregressive and combine causal filters with dilated convolutions\n",
    "to allow their receptive fields to grow exponentially with depth, which is important to model\n",
    "the long-range temporal dependencies in audio signals.WaveNets can be conditioned\n",
    "on other inputs in a global (e.g. speaker identity) or local way (e.g. linguistic features).\n",
    "When applied to TTS, WaveNets produced samples that outperform the current best TTS systems\n",
    "in subjective naturalness. Finally, WaveNets showed very promising results when applied to music\n",
    "audio modeling and speech recognition.\n",
    "\n",
    "\n",
    "#### Wavenet V2\n",
    "\n",
    "\n",
    "The original Wavenet implementation suffered from low speed inference, because it predicts samples squentially.\n",
    "They needed to predict time samples in prallel so that wavenet can be used in production, so the used a fully trained wavenet teacher, to train a smaller wavnet student, which doesn't depend on previous samples to produce the current sample, while still maintaining the same quality.\n",
    "\n"
   ]
  },
  {
   "cell_type": "markdown",
   "metadata": {},
   "source": [
    "### WaveGan\n",
    "WaveGAN is a generative adversarial network for unsupervised synthesis of raw-waveform audio (as opposed to image-like spectrograms).\n",
    "\n",
    "\n",
    "The WaveGAN architecture is based off DCGAN. The DCGAN generator uses the transposed convolution operation to iteratively upsample low-resolution feature maps into a high-resolution image. WaveGAN modifies this transposed convolution operation to widen its receptive field, using a longer one-dimensional filters of length 25 instead of two-dimensional filters of size 5x5, and upsampling by a factor of 4 instead of 2 at each layer. The discriminator is modified in a similar way, using length-25 filters in one dimension and increasing stride from 2 to 4. These changes result in WaveGAN having the same number of parameters, numerical operations, and output dimensionality as DCGAN\n",
    "\n",
    "#### Before WaveGan \n",
    "\n",
    "##### Autoregressive generation: \n",
    "- It's an approach in which speech samples are generated one by one in sequence.\n",
    "- Examples: WaveNet \n",
    "- Has high quality \n",
    "- Takes around 180 secs to generate a one second of speech \n",
    "- can't be applied to services in production  due to low speed \n",
    "\n",
    "##### Non-autoregressive generation:\n",
    "- It's an approach where all voice samples are generated in prallel \n",
    "- Examples: Prallel WaveNet \n",
    "- Lower quality than autoregressive method\n",
    "- takes 0.03 seconds to generates one second of speed  \n"
   ]
  },
  {
   "cell_type": "markdown",
   "metadata": {},
   "source": [
    "### End-to-End TTS\n",
    "\n",
    "End-to-end TTS systems can be splitted into two main components:\n",
    "* Speech Synthesizer, which takes in raw text and output mel-spectrogram.\n",
    "    - Ex: Tacotron \n",
    "* Vocoder, which takes in mel-spectrogram and outputs sound waves.\n",
    "    - Ex: Prallel WaveGan, Univnet\n"
   ]
  },
  {
   "cell_type": "markdown",
   "metadata": {},
   "source": [
    "#### Tacotron2\n",
    "Tacotron 2 is a neural network architecture for speech synthesis directly from text. It consists of two components: a recurrent sequence-to-sequence feature prediction network with attention which predicts a sequence of mel spectrogram frames from an input character sequence, followed by a modified WaveNet model acting as a vocoder to synthesize time-domain\n",
    "waveforms from those spectrograms.\n",
    "\n",
    "\n",
    "![Tacotron_arch](assets/tacotron_arch.png \"Tacotron2 Architecture\")\n",
    "\n"
   ]
  },
  {
   "cell_type": "markdown",
   "metadata": {},
   "source": [
    "#### Prallel WaveGan\n",
    "\n",
    "Parallel WaveGAN1, a distillation-free, fast, and small-footprint waveform generation method using a generative adversarial network. In the proposed method, a non-autoregressive WaveNet is trained by jointly optimizing multi-resolution spectrogram and adversarial loss functions, which can effectively capture the time-frequency distribution of the realistic speech waveform. As our method does not require density distillation used in the conventional teacher-student framework, the entire model can be easily trained even with a small number of parameters. In particular, the proposed Parallel WaveGAN has only 1.44 M parameters and can generate 24 kHz speech waveform 28.68 times faster than real-time on a single GPU environment. Perceptual listening test results verify that our proposed method achieves 4.16 mean opinion score within a Transformer-based text-to-speech framework, which is comparative to the best distillation-based Parallel WaveNet system.\n",
    "\n",
    "![Parallel_WaveGan_arch](assets/parallel_wavegan_arch.png \"Parallel WaveGan Architecture\")\n"
   ]
  },
  {
   "cell_type": "markdown",
   "metadata": {},
   "source": [
    "#### Univnet\n",
    "\n",
    "UnivNet, a neural vocoder that\n",
    "synthesizes high-fidelity waveforms in real time. Inspired by\n",
    "works in the field of voice activity detection, we added a multiresolution spectrogram discriminator that employs multiple linear spectrogram magnitudes computed using various parameter\n",
    "sets. Using full-band mel-spectrograms as input, we expect to\n",
    "generate high-resolution signals by adding a discriminator that\n",
    "employs spectrograms of multiple resolutions as the input\n",
    "\n",
    "\n",
    "\n",
    "![Univnet_arch](assets/univnet_arch.png \"Univnet Architecture\")\n"
   ]
  },
  {
   "cell_type": "markdown",
   "metadata": {},
   "source": [
    "### Resources \n",
    "* Wavenet\n",
    "    - https://deepmind.com/blog/article/high-fidelity-speech-synthesis-wavenet\n",
    "    - https://www.youtube.com/watch?v=YyUXG-BfDbE\n",
    "    - https://www.kdnuggets.com/2020/07/deep-learning-signal-processing.html\n",
    "    - https://deepmind.com/blog/article/wavenet-generative-model-raw-audio\n",
    "* WaveGan\n",
    "    - https://arxiv.org/pdf/1802.04208v3.pdf\n",
    "    - https://paperswithcode.com/method/wavegan\n",
    "* Prallel WaveGan\n",
    " - https://www.youtube.com/watch?v=knzT7M6qsl0\n",
    " - https://github.com/kan-bayashi/ParallelWaveGAN\n",
    " - https://arxiv.org/pdf/1910.11480.pdf\n",
    " \n",
    "* Tacotron\n",
    " - https://arxiv.org/pdf/1712.05884v2.pdf\n",
    "* Univnet\n",
    "    - https://arxiv.org/pdf/2106.07889.pdf\n",
    " "
   ]
  },
  {
   "cell_type": "code",
   "execution_count": null,
   "metadata": {},
   "outputs": [],
   "source": []
  }
 ],
 "metadata": {
  "kernelspec": {
   "display_name": "Python 3",
   "language": "python",
   "name": "python3"
  },
  "language_info": {
   "codemirror_mode": {
    "name": "ipython",
    "version": 3
   },
   "file_extension": ".py",
   "mimetype": "text/x-python",
   "name": "python",
   "nbconvert_exporter": "python",
   "pygments_lexer": "ipython3",
   "version": "3.8.8"
  }
 },
 "nbformat": 4,
 "nbformat_minor": 4
}
