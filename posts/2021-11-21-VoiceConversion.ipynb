{
 "cells": [
  {
   "cell_type": "markdown",
   "id": "05129f8a",
   "metadata": {},
   "source": [
    "# Voice Conversion\n",
    "> A Research notebook, for Voice conversion models \n",
    "\n",
    "- toc: true \n",
    "- badges: true\n",
    "- comments: true\n",
    "- categories: [jupyter,DeepLearning, VoiceConversion]\n"
   ]
  },
  {
   "cell_type": "markdown",
   "id": "8fef2b7d",
   "metadata": {},
   "source": [
    "## AutoVC\n",
    "- [paper](https://arxiv.org/abs/1905.05879)\n",
    "- [Demo](https://auspicious3000.github.io/autovc-demo/)\n",
    "- [Repo](https://github.com/auspicious3000/autovc)\n",
    "\n"
   ]
  },
  {
   "cell_type": "markdown",
   "id": "38a40a27",
   "metadata": {},
   "source": [
    "## Speach Split\n",
    "\n",
    "- [Paper](https://arxiv.org/abs/2004.11284)\n",
    "- [Demo](https://auspicious3000.github.io/SpeechSplit-Demo/)\n",
    "- [repo](https://github.com/auspicious3000/SpeechSplit)"
   ]
  },
  {
   "cell_type": "markdown",
   "id": "5d4fdd92",
   "metadata": {},
   "source": [
    "## AutoPST\n",
    "\n",
    "- [Paper](https://arxiv.org/abs/2106.08519)\n",
    "- [Demo](https://auspicious3000.github.io/AutoPST-Demo/)\n",
    "- [repo](https://github.com/auspicious3000/AutoPST)"
   ]
  },
  {
   "cell_type": "markdown",
   "id": "6a7d97f2",
   "metadata": {},
   "source": [
    "## Sources \n",
    "\n",
    "- [IMPROVING ZERO-SHOT VOICE STYLE TRANSFER VIA\n",
    "DISENTANGLED REPRESENTATION LEARNING](https://openreview.net/pdf?id=TgSVWXw22FQ)\n",
    "- [Voice Conversion Challenge 2020 results ](https://www.youtube.com/watch?v=eDbfcFy1OEg)"
   ]
  },
  {
   "cell_type": "code",
   "execution_count": null,
   "id": "471548b6",
   "metadata": {},
   "outputs": [],
   "source": []
  }
 ],
 "metadata": {
  "kernelspec": {
   "display_name": "Python 3",
   "language": "python",
   "name": "python3"
  },
  "language_info": {
   "codemirror_mode": {
    "name": "ipython",
    "version": 3
   },
   "file_extension": ".py",
   "mimetype": "text/x-python",
   "name": "python",
   "nbconvert_exporter": "python",
   "pygments_lexer": "ipython3",
   "version": "3.8.8"
  }
 },
 "nbformat": 4,
 "nbformat_minor": 5
}
