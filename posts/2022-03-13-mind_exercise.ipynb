{
 "cells": [
  {
   "cell_type": "markdown",
   "metadata": {},
   "source": [
    "# Mind Exercise\n",
    "> A bunch of topics and ideas that popped into my head, tryin to understand life\n",
    "\n",
    "- toc: true \n",
    "- badges: true\n",
    "- comments: true\n",
    "- categories: [jupyter,life,python]\n"
   ]
  },
  {
   "cell_type": "markdown",
   "metadata": {},
   "source": [
    "## Sad Thoughts\n",
    "\n",
    "I think this would be the first post, of random thoughts than cross my mind. Some of these thoughts are sad, and some are with good vibes, but the sad ones are more to be honest. I don't know why, that's the case, maybe cause lately for the past few years I've been feeling lonely. It's becoming a constant feeling, that would just lurks in the shadows while im busy with something, but it wouldn't hesitate to jump out as it gets the chance. Idk why im capturing this, but I believe it in the hope that it would make me feel better, at least for a while hopefully. Secondly in the hope, that someday I would see this post again, and then I would be in a better state, that I would remember these days and thank god appreciating his good to me, I would remember this someday, using the memory to give me boost then, to really believe that all sadness and loneliness would pass eventually.\n",
    "\n",
    "Ah, btw, im writing this at sunset, at the blue lagoon, Dahab, one of the best relaxing destination in Egypt, and still all these thoughts came to my head. Is it because I look around and see happy people, that are enjoying their time? Many of them are couples, or a large group of friends. Don't take me wrong,  I don't envy them, I just do these stupid social comparisons that most brains do! So, I would be torn apart between my desires and my conscious, doesn't matter who wins, I would be the one suffering in the middle."
   ]
  },
  {
   "cell_type": "markdown",
   "metadata": {},
   "source": [
    "## Enjoy the trip vs thinking about What I could be doing\n",
    "\n",
    "Whenever I travel, going for vacation, or camping, hiking, etc, you I find young guys just like my age, just standing there all the time in the security check points, working as security, or just standing there doing nothing. Wouldn't they prefer that they start their live, start make a family?  Couldn't I be one them, doing what they are doing, hating my life every minute?  I was lucky, I got rejected, but they weren't. Is our future and life just depends on luck, or let me say, on the opinion of a doctor working on the military who decides I go in, or I get rejected?   These ppl spend on average one and half year in the military, this period is enough to flip their live. Is it fair that im passing by them, so our paths cross, but I'm on the path of having fun, while they are there cursing their life every moment. You know what else? Me or them can't talk about these feelings, it's like we can communicate it through looks, but our lips shall not move, for us to see another dawn."
   ]
  },
  {
   "cell_type": "markdown",
   "metadata": {},
   "source": [
    "## Permenant Mindset Vs Temporary Circumstances \n",
    "Life doesn't  have to be hard all the time, but u need to be prepared on how to  deal with hard times. U are walking in ur way, someplaces gonna be hard and some gonna be easy, buy anyway u continue  walking, focusing on the way, are u going on the right track  or not, are u going with good speed or not? What about ur acceleration? Are u accelerating or decelerating? Ideally, the  environment  around you should have as little effect as possible on your pace…"
   ]
  },
  {
   "cell_type": "markdown",
   "metadata": {},
   "source": [
    "## Life Marathon \n",
    "\n",
    "Life is like a race, or u can say a marathon. And  your actions and doings are you speed. Your good or evil intentions and doings are ur compass, ur map.\n",
    "If u think about life with those two principles, then u find that:\n",
    "\n",
    "It doesn't matter at age we die, we still  reach the end of that marathon, cause god doesn't reward or punish us for how long we obeyed him or sinned, but we are hold acountable for our intentions. This means a guy that died at 20 yrs old,  can have higher reward in the afterlife, than someone who died in his 90s.\n",
    "This can also help explain, the idea that  a non-believer would stay in punishment for ever in the  afterlife, as disbelief in the one true god can has an infinite weight in the afterlife's balance of judgment.\n",
    "\n",
    "The second principle  means, that some ppl would be marching in this marathon on the wrong direction and some are going in the  right one. So you can find urself at the end at the wrong end line, one that has hell punishment after it.\n",
    "It's not all black and sad, because acc god gave us an implanted compass inside of each one of us, compass that helps us go to the  right track in case we are on the wrong one, and it's the same compass that also keeps us on the right track encouraging us to continue and to increase our velocity on it. This compass is the natural instinct that god gave every and each one of us when were born.\n"
   ]
  },
  {
   "cell_type": "markdown",
   "metadata": {},
   "source": [
    "## Atleast be a Sine. Never be a Random Curve\n",
    "\n",
    "\n",
    "TALK ABOUT THE ONE STRAING ROAD AND WE SHOULD BE GOING ON SIN WAVES WITH HIGH FREQUENCY "
   ]
  },
  {
   "cell_type": "markdown",
   "metadata": {},
   "source": [
    "## Sadness\n",
    "The constant feelings  of sadness is so strong, it's strong  that if in a random moment I feel happy, I would immediately check if im in a rare random dream. It's sad, that im not try to that feeling anymore that I try to jinx it, and get back  to the normal, lost living  soul on earth. What makes me feel more sad and angry at myself, is that I don't know why I feel this way, what's the source for it all? Could it be that im not religious as I used to be? Could it be my sins that are trying  to cover me? Could it just be in my mind? Could it be the tough situations im living it? Could it be the injustices that happen all around me, both inside and abroad?  Well, these are the tough questions, that  I have to find answers to myself. Yes, that's  right, myself, im the only one who can help me, who else can fully understand my situation, how I feel. Even if I try to explain to a genuine friend who is trying to help, but how can he fully realize it! What if it's a combination of all these things? What if there's a solution, but I got used to the constant sadness, that it became my normal, that I don't want to change  it? I keep saying that I can't continue like this, that I should try to change it, but do I really wanna change it, it's just a feeling driven by the  society standards that it's not normal to keep feeling  this way."
   ]
  },
  {
   "cell_type": "markdown",
   "metadata": {
    "vscode": {
     "languageId": "plaintext"
    }
   },
   "source": [
    "\n",
    "## Be an increasing exponential not a mere gaussian \n",
    "\n",
    "We can model our progress as one of two:\n",
    "\n",
    "### Gaussian Like Progress:\n",
    "Just like the below Photo, we can observe our progress with exponential growth in the beginning. Then, we would be just starting, and we would be filled with energy. Then, we do a lot of efforts  and end up burnt out, and go down again.\n",
    "\n",
    "![](assets/gaussian.jpeg)\n",
    "\n",
    "\n",
    "### Slow stable increase\n",
    "The other model, would be small increase that keeps increasing by time, till we reach our saturation point, then we keep at high level or productivity.\n",
    "\n",
    "```\n",
    "Prophet Mohammed(PBUH) said: The best deeds are those which are stable, even if they are small\n",
    "```\n",
    "\n",
    "![](assets/increasing.jpeg)\n"
   ]
  },
  {
   "cell_type": "markdown",
   "metadata": {},
   "source": [
    "## I will \n",
    "\n",
    "* I will not envy ppl around me, I will not come with some excuses, they are many of them, it's easy to stay where you are envying ppl, coming with excusing while u sitting there don't nothing moving backward, if you aren't moving forward, then you are moving back, life isn't stationary "
   ]
  }
 ],
 "metadata": {
  "kernelspec": {
   "display_name": "Python 3.8.12 ('aner')",
   "language": "python",
   "name": "python3"
  },
  "language_info": {
   "codemirror_mode": {
    "name": "ipython",
    "version": 3
   },
   "file_extension": ".py",
   "mimetype": "text/x-python",
   "name": "python",
   "nbconvert_exporter": "python",
   "pygments_lexer": "ipython3",
   "version": "3.8.13"
  },
  "orig_nbformat": 4,
  "vscode": {
   "interpreter": {
    "hash": "689c85b17f18ff8f26ca38e46b01452b3b905263543d6c8f536272cab1028e01"
   }
  }
 },
 "nbformat": 4,
 "nbformat_minor": 2
}
