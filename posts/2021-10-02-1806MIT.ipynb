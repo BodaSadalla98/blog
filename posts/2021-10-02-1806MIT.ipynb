{
 "cells": [
  {
   "cell_type": "markdown",
   "id": "59cafcbd",
   "metadata": {},
   "source": [
    "# MIT 18.06 Linear Algebra course\n",
    "\n",
    "> MIT 18.06 Linear Algebra course\n",
    "\n",
    "- toc: true \n",
    "- badges: true\n",
    "- comments: true\n",
    "- categories: [jupyter,MIT,Linear Algebra, Math]"
   ]
  },
  {
   "cell_type": "markdown",
   "id": "731adb12",
   "metadata": {},
   "source": [
    "## Lecture 1\n",
    "\n",
    "We learn about the big picture behind mutplication of matrix and vector \n",
    "\n",
    "we learn about the row picture and column picture \n"
   ]
  },
  {
   "cell_type": "markdown",
   "id": "8c96e703",
   "metadata": {},
   "source": [
    "## Lecture 2\n",
    "\n",
    "we learned about elimination method to solve a system of equations \n"
   ]
  },
  {
   "cell_type": "markdown",
   "id": "b7692f0f",
   "metadata": {},
   "source": [
    "## Lecture 3\n",
    "\n",
    "in this lecture  we learned about matrics multiplication:\n",
    "\n",
    "we can do that in five ways: \n",
    "\n",
    "1. row * col ==> gives an entry (1 cell)\n",
    "2.  col * row ==>   sum (  r1 * c1 ,   r2 * c2, etc)\n",
    "3. by columns  ==>  A * c1  = combination of A columns \n",
    "4. by columns  ==>  r1 * B  = combination of A B rows \n",
    "5.  by blocks  ==>   A (A1,A2,A3,A4)  *  B (B1,B2,B3,B4) =  C1 = (A1* B1 +  A2 * B3)  and so on\n",
    "\n",
    "\n",
    "\n",
    "then we learned about  gausian-Jordan  elimination to find the matrix inverse \n",
    "\n",
    "[A | I] ==> we apply elimination till we  get [ I | A-1  ]\n",
    "\n",
    "\n"
   ]
  },
  {
   "cell_type": "markdown",
   "id": "808406ef",
   "metadata": {},
   "source": [
    "## Lecture 4\n",
    "\n",
    "in this lecture we learn about  A= L U, where L is E^ -1, and whats special about this is that it has all multipliers in the lower triangular  with ones on the diagonal   "
   ]
  },
  {
   "cell_type": "markdown",
   "id": "bf6ee430",
   "metadata": {},
   "source": [
    "## Lecture 5\n",
    "\n",
    "we continued a little with permutations and moved to vector spaces \n",
    " we learned about  sub spaces and columns spaces  ==> which is u take  the columns of the matrix and  all its combinations  and that creates a plane through origin making a columns space \n",
    "\n"
   ]
  },
  {
   "cell_type": "markdown",
   "id": "8c70521b",
   "metadata": {},
   "source": [
    "## Lecture 6\n",
    "\n",
    "In this lecture we continued about columns spaces and that we build those up by taking the combinations of all columns.\n",
    "Then we learned about null spaces while are  sub spaces of X that satisfies   A X = 0"
   ]
  },
  {
   "cell_type": "markdown",
   "id": "efb13e0f",
   "metadata": {},
   "source": [
    "## Lecture 7\n",
    "\n",
    "in this lecture we  continued about null space \n",
    "\n",
    " then we learned about  the special solution, where we assume the variables of the free vector then  get the special solution \n",
    "\n",
    "finally we learned about the reduced form \n",
    "\n",
    "where R =  [             I   F      \n",
    "                                0   0      ]\n",
    "\n",
    "and the null matrix is     [     -F \n",
    "                                               I     ]\n",
    "\n",
    "then R N = 0"
   ]
  },
  {
   "attachments": {
    "image.png": {
     "image/png": "[encoded data removed]"
    }
   },
   "cell_type": "markdown",
   "id": "d066af4a",
   "metadata": {},
   "source": [
    "## Lecture 8\n",
    "\n",
    "in this lecture we expanded to talk about  A x = b \n",
    "\n",
    " and we find the whether there's a solution to the equation or not  depends on the rank of the matrix  \n",
    "\n",
    " also we get the  Xcomplete  = Xparticular + Xnull space \n",
    "and we get particular soln by putting all free variables = zero \n",
    "\n",
    "\n",
    "![image.png](attachment:image.png)\n"
   ]
  },
  {
   "cell_type": "markdown",
   "id": "94d7d6ea",
   "metadata": {},
   "source": [
    "## Lecture 9\n",
    "\n",
    "in this lecture we learned about independent columns and how they make a space, we also learned about Basis and what are two conditions for it \n",
    "\n",
    "\n",
    "rank(A) = number of pivot columns of A = dimension of C(A). \n",
    "\n",
    "\n",
    "dimension of N(A) = number of free variables = n − r, \n"
   ]
  },
  {
   "cell_type": "markdown",
   "id": "6e27cf6b",
   "metadata": {},
   "source": [
    "## Lecture 10\n",
    "\n",
    "In this lecture we learned about the four subspaces \n",
    "\n",
    "we also  started in matrix space M"
   ]
  },
  {
   "cell_type": "markdown",
   "id": "40545ff7",
   "metadata": {},
   "source": [
    "## Lecture 11\n",
    "\n",
    "We learned about matrix space \n",
    "we  take introduction about graph\n"
   ]
  },
  {
   "cell_type": "markdown",
   "id": "2ec81de3",
   "metadata": {},
   "source": [
    "## Lecture 12\n",
    "\n",
    "in this lecture we learned about graphs and how to represent them with matrices, then we applied that to electrical system and applied kerchofs law "
   ]
  },
  {
   "cell_type": "markdown",
   "id": "13fdc18e",
   "metadata": {},
   "source": [
    "## Lecture 13\n",
    "\n",
    "Quiz 1 review\n"
   ]
  },
  {
   "cell_type": "markdown",
   "id": "5366cb59",
   "metadata": {},
   "source": [
    "## Lecture 14\n",
    "\n",
    "in this lecture learned about othrignilaity of the four vector spaces and what does it means \n",
    "\n"
   ]
  },
  {
   "cell_type": "markdown",
   "id": "79389c50",
   "metadata": {},
   "source": [
    "## Lecture 15\n",
    "\n",
    "in this lecture we learned about projection  of matrices into subspaces \n"
   ]
  },
  {
   "cell_type": "markdown",
   "id": "04831bca",
   "metadata": {},
   "source": [
    "## Lecture 16\n",
    "\n",
    "\n",
    "we got example explaning the  projection into subspaces and how to get the best fit using the least square error \n"
   ]
  },
  {
   "cell_type": "markdown",
   "id": "76d48c00",
   "metadata": {},
   "source": [
    "## Lecture 17\n",
    "\n",
    "in this lecture le learned about orthonormal vectors and their special features and  we learn how to produce them from any independent vectors  using gram-schmeit  \n"
   ]
  },
  {
   "cell_type": "markdown",
   "id": "741ffdae",
   "metadata": {},
   "source": [
    "## Lecture 18\n",
    "\n",
    "Propertise of determants\n",
    "\n"
   ]
  },
  {
   "cell_type": "markdown",
   "id": "2ab43961",
   "metadata": {},
   "source": [
    "## Lecture 19\n",
    "\n",
    "- det I =1 \n",
    "- sign reverses with each row or colums exchange \n",
    "- det is linear in each row seperately\n",
    "\n",
    "### Big Det Formula\n",
    "\n",
    "\n",
    "\n",
    "\n",
    "for a N * N matrix, we calc the sum of N! terms\n",
    " \n",
    "$$detA=\\sum_{i=1}^ N a1\\alpha*a2\\beta*a3\\gamma*an\\omega$$\n",
    "\n",
    "\n",
    "(where $\\alpha, \\beta, ... \\omega $) = perm of (1,2,3, ..., N )\n",
    "\n",
    "### Cofactors \n",
    "\n",
    "    cofactor of aij  =  Cij  =   +/-  det of ( n-1 matrix with column j, and  row i erased )\n",
    "        it is plus if i+j is even, minus if i+j is odd \n",
    "\n",
    "#### cofactor formula (along row 1)\n",
    "    det A = a11 C11 + a12 C12 + .... + a1n C1n"
   ]
  },
  {
   "cell_type": "markdown",
   "id": "18ebca23",
   "metadata": {},
   "source": [
    "## Lecture 20 \n",
    "\n",
    "\n",
    "$ A^{-1} = 1/detA * C^T$  where C is the cofactors matrix\n",
    "\n",
    "### Cramers rule \n",
    "\n",
    "A x = b\n",
    "\n",
    "x= A^ (-1) b  = 1/detA C^T b \n",
    "\n",
    "X_j = detB_j / detA  where B_j is A matrix with column j replaced by b\n",
    "\n",
    "\n",
    "### Det A = Volume \n",
    "\n",
    "detA = volume of the shape created by making an edge from each of the rows"
   ]
  },
  {
   "cell_type": "markdown",
   "id": "86a45908",
   "metadata": {},
   "source": [
    "\n"
   ]
  },
  {
   "cell_type": "markdown",
   "id": "653c9f02",
   "metadata": {},
   "source": [
    "## Lecture 21 Eigenvalues and Eigenvectors\n",
    "\n",
    "Eigenvectors:\n",
    " Ax is prallel to x  ==> Ax =  $\\lambda$x\n",
    " \n",
    " lambda ia the eigen values\n",
    " \n",
    " if we have a plane: \n",
    " - any x in the plane: Px= x ==> x is eigenvector and lambda = 1\n",
    " - any x perpendicular to plane Px = 0 ==> x is eigen vector and lambda = 0 \n",
    " \n",
    " \n",
    "#### Fact: the sum of the eigenvalues = the sum of the diagonal of A "
   ]
  },
  {
   "cell_type": "markdown",
   "id": "3b63402c",
   "metadata": {},
   "source": [
    "## Lecture 22: Diagnolization \n",
    "\n",
    "\n",
    "to get power of matrix $A^k$\n",
    "- first get the eigenvalues and vectors for A\n",
    "\n",
    "\n",
    "- then compute $A = S \\lambda S^{-1}$ where S is the eigenvector matrix, and Lambda is diagonal matrix of the eigenvalues \n",
    "\n",
    "- then $A^k = S * \\lambda^k*S^{-1}$\n"
   ]
  },
  {
   "cell_type": "markdown",
   "id": "dc360ddb",
   "metadata": {},
   "source": [
    "## Lecture 23  \n",
    "\n",
    "\n",
    "\n",
    "for the diffrential equations:\n",
    "\n",
    "1- Stability\n",
    "if  lambda < 0 ==> u(t) --> 0 \n",
    "\n",
    "2- Steady state\n",
    " if lambda1 = 0, lambda2 < 0\n",
    "\n",
    "3- Blowup  if  any lambda > 0 "
   ]
  },
  {
   "cell_type": "markdown",
   "id": "19c20b33",
   "metadata": {},
   "source": [
    "## Lecture 24\n",
    "\n",
    "\n",
    "### Markov Matrix\n",
    "\n",
    "1- All entries >= 0\n",
    "2- The sum of every column is 1 \n",
    "\n",
    "3- lambda = 1 is eigenvalue \n",
    "\n",
    "4- all othe lambda < 1 \n",
    "5- eigenvector values  >= 0 \n",
    "\n",
    "\n",
    "### Fourier series \n",
    "\n",
    "integration of  (  f(x) g(x) dx   ) from 0 to 2pi =  0 "
   ]
  },
  {
   "cell_type": "markdown",
   "id": "a29afba5",
   "metadata": {},
   "source": [
    "## Lecture 25 \n",
    "\n",
    "### Symmetric matrices \n",
    "\n",
    "$ A  = A^T$\n",
    "\n",
    "- the eigenvalues are real \n",
    "- the eigenvectors are perpendicular \n",
    "\n",
    "\n",
    "usual case: \n",
    "\n",
    " $A  = S \\lambda S^{-1}$\n",
    " \n",
    " symmetric case:\n",
    "  - we have orthonormal eigenvectors \n",
    "  \n",
    "$A  = Q \\lambda Q^{-1}  = Q \\lambda Q^{-T} $\n",
    "\n",
    "### **Every symmetric matrix is a combination of perp. projection matrices** \n",
    "\n",
    "### **Signs of pivots are the same as the sign of the eigenvalues** \n",
    "\n",
    "**product of pivots   = product of eigenvalues =  det of matrix**\n",
    "\n",
    "## Positive definite symmetric matrix \n",
    "\n",
    "- all eigenvalues are positives \n",
    "- all pivots are positive\n",
    "- det is positive as it's the product of the eigenvalues\n",
    "- also all sub detemants are positive ( determants of lower matrices )\n",
    "\n",
    "- if S is pos. definite ==> $ X^T*S*X$ must be positive "
   ]
  },
  {
   "cell_type": "markdown",
   "id": "b426c6dd",
   "metadata": {},
   "source": [
    "## Lecture 26\n",
    "\n",
    "### Complex Matrices \n",
    "\n",
    " - we wanna utilize tha fact that $\\bar{Z^T}*Z = \\left\\|{Z}\\right\\|^2$\n",
    " - Hermitian is biscally the conj. and transpose ==> $Z^H = \\bar{Z^T}$\n",
    "\n",
    "- Hermitian Matricies :  $A^H = A$\n",
    "\n",
    "- perpendicular: q1, q2, ..., qn \n",
    "    - $\\bar{qi}^T * qj = 0 if i!=j, 1  if i=j $\n",
    "    - $Q^H*Q = I$\n",
    " \n",
    "\n",
    "\n",
    "### Fourier Matrix\n",
    "\n",
    "- a matrix with entries are powers of some number W. where  $W^n = 1$\n",
    "\n",
    "- $  F^H*F = I$\n",
    "\n",
    "\n",
    "\n",
    "\n",
    "### Fast fourier transform\n",
    "- reduces complexity from $N^2  to N log(N)$\n",
    "- $W_{2n}^2 = W_n  ==> W_4^2 = W_2$\n"
   ]
  },
  {
   "cell_type": "markdown",
   "id": "9434262e",
   "metadata": {},
   "source": [
    "## Lecture 27\n",
    "\n",
    "when det= 0 ==> then the matrix is positive semi-definite\n",
    "\n",
    "\n",
    "f(x1,x2,x3...,xn) ==> min when the matrix of second derivatives is positive definite\n",
    "\n",
    "- the eigenvalues tells us the length of the axis of the shape crated by cutting through the shape of the $X^T A X $\n",
    "- the direction of the eigenvectors is the direction of the axis of that shape \n",
    "\n"
   ]
  },
  {
   "cell_type": "markdown",
   "id": "f95099b9",
   "metadata": {},
   "source": [
    "## Lecture 28\n",
    "\n",
    "\n",
    "A is a m by n matrix ==> $ A^T*A$ is a positive definite symmetric matrix\n",
    "\n",
    "### similar matrices \n",
    "\n",
    "- A and B are similar means: for some M ==> $B = M^{-1}*A*M$\n",
    "- **Similar matrices has the same eigenvalues if the eigenvalues are unique**\n",
    "- the eigenvector of B  is  $M^{-1} * (eigenvector ofA)$\n",
    "\n",
    "### Jordan form\n",
    "\n",
    "- every square A is similar to Jordan matrix J \n",
    "- every jordan block has one eigenvaector\n",
    "- the number of jordan blocks  = number of eigenvectors "
   ]
  },
  {
   "cell_type": "markdown",
   "id": "02d11795",
   "metadata": {},
   "source": [
    "## Lecture 29\n",
    "\n",
    "- eigenvalues of (AB) = eigenvalues of (BA)\n",
    "\n",
    "### Singular value composition (SVD)\n",
    "\n",
    "- $Av = \\sigma u $\n",
    "- $ A = u \\sigma v^T  = u \\sigma v^{-1}$ \n",
    "- $A^T A =  v \\sigma^T u^Tu /sigma v^T = v \\sigma^2 v^T$\n",
    "- $A A^T=  u \\sigma^T v^Tv /sigma u^T = u \\sigma^2 u^T$\n"
   ]
  },
  {
   "cell_type": "markdown",
   "id": "6b5c22b4",
   "metadata": {},
   "source": [
    "## Lecture 30\n",
    "\n",
    "### Linear transformation \n",
    "\n",
    "- examples: projection, rotation\n",
    "\n",
    "- if u know what transfotmation does to the basis of a plane, then u know what it does to every vector in the plane \n",
    "    - every $ v = c_1 v_1 + c_2 v_2 + ... + c_n v_n$\n",
    "    - then $T(v) =  c_1  T(v_1) + .... + c_n T(v_n)$\n",
    "    \n",
    "- coordinates come from a basis (think of basis like the X-Y-Z axis  \n",
    "- so we have a basis for the input and a basis for the output\n",
    "- Rule to find matrix A, given the input and output basis :\n",
    "    - input basis: v1 ===> vn\n",
    "    - output basis: w1 ===> wm\n",
    "    - 1st column of A : write T(v1)  = a11 w1 + a21 w2 + ... + am1 wm\n",
    "    - 2nd column of A : write T(v2)  = a12 w1 + a22 w2 + ... + am2 wm\n",
    "    - repeat that for the n columns \n",
    "- A * (input coordinates) = (output coordinates) "
   ]
  },
  {
   "cell_type": "markdown",
   "id": "1b24e0d2",
   "metadata": {},
   "source": [
    "## Lecture 31\n",
    "\n",
    "### change of basis \n",
    "- we have a new basis vectors and we wanna change to the new basis W\n",
    "- A = c * W ==> c = W^-1 * A\n",
    "- when we change the basis, every vector would have new coordinates ==> old coordinates = new basis * new coordinates  ==> x = W c \n"
   ]
  },
  {
   "cell_type": "markdown",
   "id": "bde82ba4",
   "metadata": {},
   "source": [
    "## Lecture 32 \n",
    "\n",
    "### 2-sided inverse \n",
    "- $A A^{-1} = I = A^{-1} A$\n",
    "- r = m = n  ==> full rank\n",
    "\n",
    "### left inverse \n",
    "\n",
    "- full column rank\n",
    "- r = n \n",
    "- nullspace = 0 \n",
    "- then $A^T A $ is invertable \n",
    "- $A^{-1}_{left} =  (A^T A)^{-1} A^T $ \n",
    "- $A^{-1}_{left} A  = I$\n",
    "\n",
    "\n",
    "### right inverse \n",
    "\n",
    "- full row rank\n",
    "- r = m\n",
    "- n-m free variables \n",
    "- left nullspace = 0 \n",
    "\n",
    "### pseudo inverse $A^+$\n",
    "\n",
    "$A^+ = v*\\sigma^{-1}*u^T$\n",
    "\n",
    "    \n"
   ]
  },
  {
   "cell_type": "markdown",
   "id": "95d2e268",
   "metadata": {},
   "source": [
    "### Lecute 34 \n",
    "\n",
    "- no solution ==> rank < m \n",
    "- has one solution ==> there'e no null space  ==> rank = n \n",
    "- a matrix is invertable when there's no null space ==> r = n  ==> indep. columns \n",
    "- positive definite matrix must have full rank ==> has no null space \n",
    "- positive def is invertable \n",
    "- the matrix has soln of any c when the matrix has full row rank \n",
    "- matix with orthogonal eigen vectors : \n",
    "    - symmetric matrices \n",
    "    - skew-symmetric \n",
    "    - orthogonal matrices \n",
    "- in markov matrix \n",
    "    - the eigen values are one, and some sother values less than one\n",
    "    - $k_m$ and m goes to infinity  is the steady state we ge the eigenvector that corresponts to eigenvalue one asn multiply it with c, and notes that the sum of  u is alwayes the same, so the sum of u0 is the sum of uk, so look what c achieves that "
   ]
  },
  {
   "cell_type": "code",
   "execution_count": null,
   "id": "3704e60a",
   "metadata": {},
   "outputs": [],
   "source": []
  }
 ],
 "metadata": {
  "kernelspec": {
   "display_name": "Python 3",
   "language": "python",
   "name": "python3"
  },
  "language_info": {
   "codemirror_mode": {
    "name": "ipython",
    "version": 3
   },
   "file_extension": ".py",
   "mimetype": "text/x-python",
   "name": "python",
   "nbconvert_exporter": "python",
   "pygments_lexer": "ipython3",
   "version": "3.8.8"
  }
 },
 "nbformat": 4,
 "nbformat_minor": 5
}
