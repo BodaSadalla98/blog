{
 "cells": [
  {
   "cell_type": "markdown",
   "metadata": {},
   "source": [
    "# GIT\n",
    "> Trying to get familiar and understand git more \n",
    "\n",
    "- toc: true \n",
    "- badges: true\n",
    "- comments: true\n",
    "- categories: [jupyter,git,version-control]\n"
   ]
  },
  {
   "cell_type": "markdown",
   "metadata": {},
   "source": [
    "## Beatiful commands\n",
    "\n",
    "```git log --oneline --decorate --all --graph```\n",
    "\n",
    "```git merge --abort``` ==> abort merge, and get back like it never happened\n",
    "\n",
    "`git reset --hard ` ==> is your way to lose all uncommited work in your working directory \n",
    "\n",
    "\n",
    "* git fast forward is basically that git moves the commit pointer upward to the new posotion, without creating a merge commit or anything\n",
    "* you can merge with ` --no-ff` flag, to disable the fast forward merge and force git to create the merge commit\n",
    "\n",
    "\n",
    "### Git Bisect\n",
    "* used when something broke, and you know what did broke, but you can't figure out when did it broke\n",
    "* you just give it a testing criteria to test the commit history against "
   ]
  },
  {
   "cell_type": "markdown",
   "metadata": {},
   "source": [
    "\n",
    "\n",
    "\n",
    "## Methodology \n",
    "* everything inside git is an object\n",
    "* all your local branches are located in .git/refs/heads \n",
    "* a branch is basically a file that appoints to a commit. a branch is bisacally a pointer to specific commit\n",
    "* every commit has a parent, so to assemble branches we follow and compute their parents"
   ]
  },
  {
   "cell_type": "markdown",
   "metadata": {},
   "source": [
    "## Commits \n",
    "* keep added changes in commits related to the same topic\n",
    "* add informative commit message \n",
    "* you can add parts of changes in a single file using `-p` flag in `git add -p filename`0\n"
   ]
  },
  {
   "cell_type": "markdown",
   "metadata": {},
   "source": [
    "## Branching \n",
    "\n",
    "### Long-running branches \n",
    "* Main branch\n",
    "* Dev branch \n",
    "### Short-lived branches \n",
    "* features branches\n",
    "* bug fixes branches \n"
   ]
  },
  {
   "cell_type": "markdown",
   "metadata": {},
   "source": [
    "## Merging \n",
    "\n",
    "* When the one of the two branches has the head is the same as the common ancesstor of the two branches, then we can do a fast-forward merge by putting the commits of the another branch on top the common ancesstor commit \n",
    "\n",
    "\n",
    "## Rebase \n",
    "\n",
    "* rebase puts the commits of the second brach on top of the common ancesstor commit then rebase the commits of the first branch on top of the last commit of the first branch, then it changes the history of commits\n",
    "\n",
    "**Only use rebase to clean local commit history, don't use rebase on commits that is pushed to online** "
   ]
  },
  {
   "cell_type": "markdown",
   "metadata": {},
   "source": []
  }
 ],
 "metadata": {
  "language_info": {
   "name": "python"
  },
  "orig_nbformat": 4
 },
 "nbformat": 4,
 "nbformat_minor": 2
}
