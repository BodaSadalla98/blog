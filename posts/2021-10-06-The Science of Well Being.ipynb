{
 "cells": [
  {
   "cell_type": "markdown",
   "id": "b0342e83",
   "metadata": {},
   "source": [
    "# The Science of Well Being \n"
   ]
  },
  {
   "cell_type": "markdown",
   "id": "c113194b",
   "metadata": {},
   "source": [
    "### Misconcepions about happiness \n",
    "\n",
    "\n"
   ]
  },
  {
   "cell_type": "markdown",
   "id": "5a12a953",
   "metadata": {},
   "source": [
    "### Why our expectations are so bad\n"
   ]
  },
  {
   "cell_type": "markdown",
   "id": "c6103798",
   "metadata": {},
   "source": [
    "### How can we overcome our biases "
   ]
  },
  {
   "cell_type": "markdown",
   "id": "69084e19",
   "metadata": {},
   "source": [
    "### What's really makes us happy "
   ]
  },
  {
   "cell_type": "markdown",
   "id": "c6bfba2d",
   "metadata": {},
   "source": [
    "### Putting strategies into practice "
   ]
  },
  {
   "cell_type": "code",
   "execution_count": null,
   "id": "8aeb4503",
   "metadata": {},
   "outputs": [],
   "source": []
  }
 ],
 "metadata": {
  "kernelspec": {
   "display_name": "Python 3 (ipykernel)",
   "language": "python",
   "name": "python3"
  },
  "language_info": {
   "codemirror_mode": {
    "name": "ipython",
    "version": 3
   },
   "file_extension": ".py",
   "mimetype": "text/x-python",
   "name": "python",
   "nbconvert_exporter": "python",
   "pygments_lexer": "ipython3",
   "version": "3.9.5"
  }
 },
 "nbformat": 4,
 "nbformat_minor": 5
}
