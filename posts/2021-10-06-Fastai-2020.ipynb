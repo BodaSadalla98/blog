{
 "cells": [
  {
   "cell_type": "markdown",
   "id": "01de3c24",
   "metadata": {},
   "source": [
    "# FastAi 2020\n",
    "> A summary for FastAi Practical deep learning for coders course.\n",
    "\n",
    "- toc: true \n",
    "- badges: true\n",
    "- comments: true\n",
    "- categories: [jupyter,FastAi]\n"
   ]
  },
  {
   "cell_type": "markdown",
   "id": "53f64216",
   "metadata": {},
   "source": [
    "### Lecture two\n",
    "\n",
    "\n",
    "\n",
    "\n",
    "#### P value:\n",
    "    determines if some numbers have realationship, or they are random (whether they are independat or dependant)\n",
    "    \n",
    "    suppose we have the temp and R (transmitity) values of a 100 cities in China and we want to see if there's a relation between them.\n",
    "    \n",
    "    then we generate many sets of random numbers for each parameter then we calculate the P value which would tell us what's the percentage this slope  is a random, and that ther's no relation\n",
    "    \n",
    "    A P-value is the probability of an observed result  assuming that the null hypothesis (there's no relation ) is true\n",
    "    \n",
    "    \n",
    "    PS: P-value also is dependant on the size of the set u used, so they don't measure the importance of the result. \n",
    "    \n",
    "    so don't use P-values\n",
    "    \n",
    "    If the P value is > 0.5 then we sure that these daata have no ralation, and if  the p-value is so small, then there's a chance that the data have a relation "
   ]
  },
  {
   "cell_type": "markdown",
   "id": "791b7a8b",
   "metadata": {},
   "source": [
    "### Lecture three\n",
    "\n",
    "In the course video and book, we built a bear classifier, using data from Microsoft Ping Api.\n",
    "\n",
    "To build a deep learning model, we have first to gather the data, then we should prepare the data to be in the right format for the model, then we train the model and observe if we get satisfiable results, if not then we try to investigate to try to get better results. Finally we save our model and deploy it!\n",
    "\n",
    "while gathering the data, notice that all the time the data would be biased, and in sometimes these biases would be severe that they can't be ignored \n",
    "\n",
    "#### Race classifier \n",
    "\n",
    "I have tried to rebuild the notebook and to make a Race classifier.\n",
    "\n",
    "I got the dataset from here [Dataset](https://github.com/joojs/fairface), and then trained a small Resnet18 NN to classify images.\n",
    "\n",
    "To deploy the app, I used Voila and MyBinder to make it available online here: [Race Classifier](https://hub.gke2.mybinder.org/user/bodasadalla98-fastai-c1-5e6j4ci5/voila/render/Race-classifier-voila.ipynb?token=RidonxHPRQmBgjyAy4RZKg)\n",
    "\n",
    "Lastly, all the code can be found in this githun repo [here](https://github.com/BodaSadalla98/FastAi-C1/tree/main/Race-classifier)"
   ]
  },
  {
   "cell_type": "code",
   "execution_count": null,
   "id": "3ac1d324",
   "metadata": {},
   "outputs": [],
   "source": []
  }
 ],
 "metadata": {
  "kernelspec": {
   "display_name": "Python 3",
   "language": "python",
   "name": "python3"
  },
  "language_info": {
   "codemirror_mode": {
    "name": "ipython",
    "version": 3
   },
   "file_extension": ".py",
   "mimetype": "text/x-python",
   "name": "python",
   "nbconvert_exporter": "python",
   "pygments_lexer": "ipython3",
   "version": "3.8.8"
  }
 },
 "nbformat": 4,
 "nbformat_minor": 5
}
