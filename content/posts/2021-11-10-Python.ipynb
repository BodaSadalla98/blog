{
 "cells": [
  {
   "cell_type": "markdown",
   "id": "9d86193b",
   "metadata": {},
   "source": [
    "# Python Notebook \n",
    "> Python trics \n",
    "- toc: true \n",
    "- badges: true\n",
    "- comments: true\n",
    "- categories: [jupyter,python]"
   ]
  },
  {
   "cell_type": "markdown",
   "id": "da98d091",
   "metadata": {},
   "source": [
    "## Inheritance \n",
    "\n",
    "- If you have inherited from parent class then you should call the parent class constructor if you overload it, or simply doesn't overload it \n",
    "\n",
    "Ex:"
   ]
  },
  {
   "cell_type": "code",
   "execution_count": null,
   "id": "370d1df4",
   "metadata": {},
   "outputs": [],
   "source": [
    "class parent:\n",
    "    def __init__:\n",
    "        \n",
    "class child:\n",
    "    def __init__:\n",
    "        super().__init__()\n",
    "        \n",
    "class child2:\n",
    "    ## or simply don't override the constructor and use the parent one\n",
    "    \n"
   ]
  },
  {
   "cell_type": "markdown",
   "id": "a7f32df0",
   "metadata": {},
   "source": [
    "### Multiple Inheritance\n",
    "\n",
    "- when we inherit from two or more classes, whatever class we inherited first(typed first in the list), would be the one to have pariority\n",
    "    - if the two parent classes have the same function, then Method Resolution Orded (MRO) makes the fist class method to be the one called \n",
    "\n",
    "- if we override a function from the parent class in the child class, the cild class has the pariority\n",
    "\n",
    "- to call the both finctions, then we can call the parent class from the child class directly\n",
    "    - ex:  in the child class we can do:  `parent.method()`"
   ]
  },
  {
   "cell_type": "markdown",
   "id": "472afa97",
   "metadata": {},
   "source": [
    "## Underscore\n",
    "\n",
    "- single underscore (Before): used for internal variables\n",
    "- double undescore (After): used also for internal scopes only, and also tells python to change the variable name(mangling)\n",
    "- underscore (After): helps avoid conflicts with key words ex(class_, int_, etc)\n",
    "\n",
    "-  underscore (Before and Afer): used for thing like \\__init__, \\__main__, etc "
   ]
  },
  {
   "cell_type": "markdown",
   "id": "901df640",
   "metadata": {},
   "source": [
    "## Decorators \n",
    "\n"
   ]
  },
  {
   "cell_type": "code",
   "execution_count": 15,
   "id": "96a7b209",
   "metadata": {},
   "outputs": [
    {
     "name": "stdout",
     "output_type": "stream",
     "text": [
      "1\n",
      "2\n",
      "3\n"
     ]
    }
   ],
   "source": [
    "def function(func):\n",
    "    def inner():\n",
    "        print(1)\n",
    "        func()\n",
    "        print(3)\n",
    "    return inner\n",
    "\n",
    "@function\n",
    "def print_name():\n",
    "    print(2)\n",
    "    \n",
    "    \n",
    "print_name()"
   ]
  },
  {
   "cell_type": "markdown",
   "id": "430804a9",
   "metadata": {},
   "source": [
    " - so in this example we decorated a function (print_name), which means we gonna pass the deocared function as a paramemter to  the decorator \n",
    " - so with decorator, we call our function in the inner function, the decorate it, then return the decorated function \n",
    " - used when u wanna decorate a multiple function with the same, suppose you have an add and multiply function, and you want to print something at the beginig of them, so you crate a decorator that does that, and decorate the two functions with that. "
   ]
  },
  {
   "cell_type": "markdown",
   "id": "d112b844",
   "metadata": {},
   "source": []
  }
 ],
 "metadata": {
  "kernelspec": {
   "display_name": "Python 3",
   "language": "python",
   "name": "python3"
  },
  "language_info": {
   "codemirror_mode": {
    "name": "ipython",
    "version": 3
   },
   "file_extension": ".py",
   "mimetype": "text/x-python",
   "name": "python",
   "nbconvert_exporter": "python",
   "pygments_lexer": "ipython3",
   "version": "3.8.8"
  }
 },
 "nbformat": 4,
 "nbformat_minor": 5
}
