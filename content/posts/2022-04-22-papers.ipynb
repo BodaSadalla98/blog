{
 "cells": [
  {
   "cell_type": "markdown",
   "metadata": {},
   "source": [
    "# Deep Learning Papers Summarization \n",
    "> A Summary of DL papers\n",
    "\n",
    "- toc: true \n",
    "- badges: true\n",
    "- comments: true\n",
    "- categories: [jupyter,deeplearning,python]"
   ]
  },
  {
   "cell_type": "markdown",
   "metadata": {},
   "source": [
    "## Decoupled Neural Interfaces using Synthetic Gradients\n",
    "\n",
    "* In NN, the training process, has 3 bottle-necks\n",
    "    - forward lock: you need to calculate teh output of the previous layer before you can can go into next layer in forward pass\n",
    "    - backward pass: the same, but for backward propagation \n",
    "    - weights lock: you can't update weights unless you do for weights in next layer\n",
    "* the paper trying to unlock these bootle-necks by decoupling each layer, to be sufficient alone\n",
    "* it does that by introducing, a Synthetic Gradient Model, that can predict the gradient for the current layer, without waiting for the gradient of the next layer\n",
    "* this was we can calculate gradient and update weights as soon as we calculate the activation of the current layer\n",
    "\n",
    "### Synthetic Gradient Model\n",
    "* can be just a simple NN that is trained to output the gradient of the layer\n",
    "* it can be trained using the true gradient, or even the synthetic gradient of the next layer\n",
    "* it's important that the last layer computes the true gradient, as in the end we must have a ground truth to can calculate a true loss, and the NN would actually train\n",
    "\n",
    "\n",
    "* we can have also synthetic model for forward pass, that works with the same idea"
   ]
  },
  {
   "cell_type": "markdown",
   "metadata": {},
   "source": [
    "## A Roadmap for Big Models\n",
    "\n",
    "* We are in the Era of  Big Models\n",
    "* Model generalization is hard, models trained on certain data domain, doesn't scare to other\n",
    "* Datasets creation, and high research tasks, made it hard for small companies to train task-specific models\n",
    "* Big models solve thees issues.\n",
    "\n",
    "### Big Models\n",
    "* Big-data driven\n",
    "* Multi-task Adaptive \n",
    "* can fine-tuned with few-shot learning\n",
    "#### Data issues\n",
    "* data bias\n",
    "* data duplication \n",
    "* data has to cover all domains\n",
    "* low quality data\n",
    "* hard to create huge datasets\n",
    "\n",
    "### Knowledge \n",
    "* a new way to represent data\n",
    "* we represent knowledge as knowledge graphs\n",
    "* KG consists of: Instances, Relation, Concept, and Values\n",
    "* KG can be created using : experts, wiki-based knowledge graphs, or extracted from unstructured texts\n",
    "#### KG Completion and Integration\n",
    "* most of the known KGs has many fields empty, and there's a going research in how to deal with that and fill the gaps.\n",
    "* some methods try to do that using intra-graph knowledge augmentation or with inter-graph.\n",
    "\n"
   ]
  }
 ],
 "metadata": {
  "language_info": {
   "name": "python"
  },
  "orig_nbformat": 4
 },
 "nbformat": 4,
 "nbformat_minor": 2
}
