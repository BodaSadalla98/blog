{
 "cells": [
  {
   "cell_type": "markdown",
   "metadata": {},
   "source": [
    "# TTS Research \n",
    "> A summary research for TTS\n",
    "\n",
    "- toc: true \n",
    "- badges: true\n",
    "- comments: true\n",
    "- categories: [TTS,Deeplearning]\n"
   ]
  },
  {
   "cell_type": "markdown",
   "metadata": {},
   "source": [
    "### TTS\n",
    "\n",
    "TTS can be viewed as a sequence-to-sequence mapping problem; from a sequence of discrete symbols\n",
    "(text) to a real-valued time series (speech signals). A typical TTS pipeline has two parts; 1)\n",
    "text analysis and 2) speech synthesis. The text analysis part typically includes a number of natural\n",
    "language processing (NLP) steps, such as sentence segmentation, word segmentation, text normalization,\n",
    "part-of-speech (POS) tagging, and grapheme-to-phoneme (G2P) conversion. It takes a word\n",
    "sequence as input and outputs a phoneme sequence with a variety of linguistic contexts. The speech\n",
    "synthesis part takes the context-dependent phoneme sequence as its input and outputs a synthesized\n",
    "speech waveform."
   ]
  },
  {
   "cell_type": "markdown",
   "metadata": {},
   "source": [
    "## End-to-end TTS\n",
    "\n",
    "- easier pipeline\n",
    "- better peformance \n"
   ]
  },
  {
   "cell_type": "markdown",
   "metadata": {},
   "source": [
    "## Wavenet\n",
    "\n",
    "### Based on: \n",
    " - [DeepMind's Wavenet](https://www.youtube.com/watch?v=YyUXG-BfDbE)\n",
    " - https://www.kdnuggets.com/2020/07/deep-learning-signal-processing.html\n",
    " - https://deepmind.com/blog/article/wavenet-generative-model-raw-audio\n",
    " \n",
    "### Wavenet V1\n",
    "\n",
    " before wavenet, ther was two methods:\n",
    "   - generative method, which would produce the over all song of the sentece well, but would fail to produce the individual sounds well\n",
    "   - concatinative: we use a huge corpus of phonatics and concatinate them together to procude a whole sentence, this way we would procuce the individual sounds correctly, but we would lose the song of the sentence \n",
    "   \n",
    "   - wavenet: tries to do both of the above methods, it also can change the speaker by changing some parameters\n",
    "   \n",
    "   - data output:   16 khz rate\n",
    "   - we  cant use normal RNN as the max seq length around 50 \n",
    "   \n",
    "   - they used dilated CNNs:\n",
    "       - can have very long look back\n",
    "       - fast to train\n",
    "       \n",
    "       \n",
    "This paper has presented WaveNet, a deep generative model of audio data that operates directly at\n",
    "the waveform level. WaveNets are autoregressive and combine causal filters with dilated convolutions\n",
    "to allow their receptive fields to grow exponentially with depth, which is important to model\n",
    "the long-range temporal dependencies in audio signals. We have shown how WaveNets can be conditioned\n",
    "on other inputs in a global (e.g. speaker identity) or local way (e.g. linguistic features).\n",
    "When applied to TTS, WaveNets produced samples that outperform the current best TTS systems\n",
    "in subjective naturalness. Finally, WaveNets showed very promising results when applied to music\n",
    "audio modeling and speech recognition.\n",
    "   \n",
    "### Wavenet V2\n",
    "\n",
    "The original Wavenet implementation suffered from low speed inference, because it predicts samples squentially.\n",
    "They needed to predict time samples in prallel so that wavenet can be used in production, so the used a fully trained wavenet teacher, to train a smaller wavnet student, which doesn't depend on previous samples to produce the current sample, while still maintaining the same quality \n",
    "   \n"
   ]
  },
  {
   "cell_type": "markdown",
   "metadata": {},
   "source": [
    "## End-to-end adversarial TTS \n",
    "\n",
    "### Based on:\n",
    "- https://www.youtube.com/watch?v=WTB2p4bqtXU\n",
    "- https://deepmind.com/research/publications/2020/End-to-End-Adversarial-Text-to-Speech\n",
    "- https://arxiv.org/abs/2006.03575\n",
    "\n",
    "Adversarial: means we have a generator and a descriminator which tries to detect which output is generated and which is real \n",
    "End-to-end : they take in text and output the speech \n",
    "\n",
    "\n",
    "steps:\n",
    "- we enter the text, then we tokenize it \n",
    "- then we use a stack of dilated conv layers to predict the length of each token\n",
    "- with this info, we can predict the center of each token \n",
    "- then we use a gaussian kernel to give a prob distributaion for the place of the token center\n",
    "- then the generator can generate the sound \n",
    "\n",
    "** Q: here we assumed that every token starts directly after the one before it, but is that the case? don't we need to add a small duration of no sound between tokens? \n"
   ]
  },
  {
   "cell_type": "markdown",
   "metadata": {},
   "source": [
    "## Tacotron2 \n",
    "\n",
    "### based on:\n",
    "- [paper](https://arxiv.org/pdf/1712.05884v2.pdf)\n",
    "- [repo](https://github.com/NVIDIA/tacotron2)\n",
    "\n",
    "you train tacotron-like seq2seq model to output a mel spectrogram, then pass that to wavenet to generate the wave form \n",
    "\n",
    "This paper describes Tacotron 2, a fully neural TTS system that\n",
    "combines a sequence-to-sequence recurrent network with attention to\n",
    "predicts mel spectrograms with a modified WaveNet vocoder. The\n",
    "resulting system synthesizes speech with Tacotron-level prosody and\n",
    "WaveNet-level audio quality. This system can be trained directly from\n",
    "data without relying on complex feature engineering, and achieves\n",
    "state-of-the-art sound quality close to that of natural human speech."
   ]
  },
  {
   "cell_type": "markdown",
   "metadata": {},
   "source": [
    "## Common TTS Architictures:\n",
    "        - Autoregressive models \n",
    "        - DCCN\n",
    "        - Flow \n",
    "        - Teacher Student \n",
    "        - Variational auto encoders (VAE) \n",
    "        - GANS \n",
    "        "
   ]
  },
  {
   "cell_type": "markdown",
   "metadata": {},
   "source": [
    "# Resources \n",
    "\n",
    "- https://towardsdatascience.com/state-of-the-art-of-speech-synthesis-at-the-end-of-may-2021-6ace4fd512f2\n"
   ]
  },
  {
   "cell_type": "code",
   "execution_count": null,
   "metadata": {},
   "outputs": [],
   "source": []
  }
 ],
 "metadata": {
  "kernelspec": {
   "display_name": "Python 3",
   "language": "python",
   "name": "python3"
  },
  "language_info": {
   "codemirror_mode": {
    "name": "ipython",
    "version": 3
   },
   "file_extension": ".py",
   "mimetype": "text/x-python",
   "name": "python",
   "nbconvert_exporter": "python",
   "pygments_lexer": "ipython3",
   "version": "3.8.8"
  }
 },
 "nbformat": 4,
 "nbformat_minor": 4
}
