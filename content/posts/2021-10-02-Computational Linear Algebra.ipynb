{
 "cells": [
  {
   "cell_type": "markdown",
   "id": "06ab172e",
   "metadata": {},
   "source": [
    "### This is Post for Computational Linear Algebra "
   ]
  },
  {
   "cell_type": "markdown",
   "id": "db10491f",
   "metadata": {},
   "source": [
    "# Lecture 1\n"
   ]
  },
  {
   "cell_type": "code",
   "execution_count": 4,
   "id": "eb33a237",
   "metadata": {},
   "outputs": [],
   "source": [
    "import numpy as np"
   ]
  },
  {
   "cell_type": "code",
   "execution_count": 6,
   "id": "6ea20c48",
   "metadata": {},
   "outputs": [],
   "source": [
    "a = np.array( [[6,5,3,1], [3,6,2,2], [3,4,3,1] ])\n",
    "b = np.array( [ [1.5 ,1], [2,2.5], [5 ,4.5] ,[16 ,17] ])"
   ]
  },
  {
   "cell_type": "code",
   "execution_count": 10,
   "id": "0c288f41",
   "metadata": {},
   "outputs": [
    {
     "name": "stdout",
     "output_type": "stream",
     "text": [
      "[50. 49.]\n",
      "[58.5 61. ]\n",
      "[43.5 43.5]\n"
     ]
    }
   ],
   "source": [
    "for c in (a @ b):\n",
    "    print(c)"
   ]
  },
  {
   "cell_type": "markdown",
   "id": "91f7658a",
   "metadata": {},
   "source": [
    "# Lecture 2 \n",
    "\n",
    "Matrix decomposition: we decopose matricies into smaller ones that has special properties \n",
    "\n",
    "\n",
    "### Singular Value Decomposition (SVD):\n",
    "* it's an exact decomposition, so you can retrieve the orginal matrix again \n",
    "\n",
    "#### Some SVD applications: \n",
    "* semantic analysis\n",
    "* collaborative filtering / recommendation \n",
    "* data compression \n",
    "* PCA (principal component analysis)\n",
    "\n",
    "\n",
    "### Non-negative Matrix Factorization (NMF)\n"
   ]
  },
  {
   "cell_type": "markdown",
   "id": "c2913997",
   "metadata": {},
   "source": []
  }
 ],
 "metadata": {
  "kernelspec": {
   "display_name": "Python 3",
   "language": "python",
   "name": "python3"
  },
  "language_info": {
   "codemirror_mode": {
    "name": "ipython",
    "version": 3
   },
   "file_extension": ".py",
   "mimetype": "text/x-python",
   "name": "python",
   "nbconvert_exporter": "python",
   "pygments_lexer": "ipython3",
   "version": "3.8.8"
  }
 },
 "nbformat": 4,
 "nbformat_minor": 5
}
